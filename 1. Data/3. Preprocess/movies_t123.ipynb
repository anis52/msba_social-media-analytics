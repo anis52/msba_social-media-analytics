{
 "cells": [
  {
   "cell_type": "code",
   "execution_count": 6,
   "id": "450dd1f6",
   "metadata": {},
   "outputs": [],
   "source": [
    "import csv\n",
    "import pandas as pd\n",
    "\n",
    "data = pd.read_csv('fbposts1.csv')"
   ]
  },
  {
   "cell_type": "code",
   "execution_count": 7,
   "id": "807465be",
   "metadata": {},
   "outputs": [
    {
     "name": "stdout",
     "output_type": "stream",
     "text": [
      "48269\n"
     ]
    }
   ],
   "source": [
    "print(len(data))\n",
    "data.head()\n",
    "group_data = data.groupby('imdb_id')\n",
    "# print(len(group_data))"
   ]
  },
  {
   "cell_type": "code",
   "execution_count": 11,
   "id": "8e664c29",
   "metadata": {},
   "outputs": [
    {
     "name": "stdout",
     "output_type": "stream",
     "text": [
      "203\n"
     ]
    }
   ],
   "source": [
    "duration_dict = dict()\n",
    "df = pd.read_csv('out_time.csv')\n",
    "df_group = df.groupby('imdb_id')\n",
    "for movie in df_group:\n",
    "    movie_id = movie[0]\n",
    "    duration_dict[movie_id] = movie[1]['duration'].max()\n",
    "print(len(duration_dict))"
   ]
  },
  {
   "cell_type": "code",
   "execution_count": 12,
   "id": "18cab33f",
   "metadata": {},
   "outputs": [
    {
     "name": "stdout",
     "output_type": "stream",
     "text": [
      "182\n"
     ]
    }
   ],
   "source": [
    "count = 0\n",
    "type_list = ['video', 'status', 'offer', 'swf', 'photo', 'link', 'question']\n",
    "status_list = ['nan',\n",
    " 'wall_post',\n",
    " 'created_note',\n",
    " 'created_event',\n",
    " 'added_video',\n",
    " 'mobile_status_update',\n",
    " 'app_created_story',\n",
    " 'added_photos',\n",
    " 'shared_story']\n",
    "\n",
    "slice_list = ['t1', 't2','t3']\n",
    "\n",
    "def write_dict(slice_dict, key, t, s):\n",
    "    slice_dict[key]['total'] += 1\n",
    "    slice_dict[key][t] += 1\n",
    "    slice_dict[key][s] += 1\n",
    "moive_slice_dict = dict()\n",
    "for movie in group_data:\n",
    "    movie_id = movie[0]\n",
    "    release_time = movie[1]['release_time'].min()\n",
    "    first_pub_time = movie[1]['pub_time'].min()\n",
    "    last_pub_time = movie[1]['pub_time'].max()\n",
    "    duration = duration_dict[movie_id] + 1 # 加不加一就改这里\n",
    "    out_time = release_time + duration - 1\n",
    "\n",
    "    pub_before_release = release_time - first_pub_time\n",
    "    pub_after_release = last_pub_time - out_time\n",
    "    # print(movie_id, release_time, duration, out_time, first_pub_time, last_pub_time, pub_before_release, pub_after_release)\n",
    "\n",
    "\n",
    "    # init slice_dict\n",
    "    slice_dict = dict()\n",
    "    for s in slice_list:\n",
    "        slice_dict[s] = dict()\n",
    "        slice_dict[s]['total'] = 0\n",
    "        for t in type_list:\n",
    "            slice_dict[s][t] = 0\n",
    "        for t in status_list:\n",
    "            slice_dict[s][t] = 0\n",
    "    # print(movie[1])\n",
    "    for i, com in movie[1].iterrows():\n",
    "        # print(com['pub_time'])\n",
    "        # print(com)\n",
    "        pub_time = com['pub_time']\n",
    "        t = com['type']\n",
    "        s = str(com['statusType'])\n",
    "        if pub_time < release_time:\n",
    "            write_dict(slice_dict, 't1',t,s)\n",
    "        elif pub_time > out_time:\n",
    "            write_dict(slice_dict, 't3',t,s)\n",
    "        else:\n",
    "            write_dict(slice_dict, 't2',t,s)\n",
    "        # print(com)\n",
    "    # print(slice_dict)\n",
    "    for key in slice_list:\n",
    "        if key in ['t1']:\n",
    "            slice_dict[key]['average'] = slice_dict[key]['total']/(release_time - first_pub_time)\n",
    "            slice_dict[key]['time'] = release_time - first_pub_time\n",
    "        elif key in ['t3']:\n",
    "            slice_dict[key]['average'] = slice_dict[key]['total']/(last_pub_time - out_time) # 加不加一就改这里\n",
    "            slice_dict[key]['time'] = last_pub_time - out_time\n",
    "        else:\n",
    "            slice_dict[key]['average'] = slice_dict[key]['total']/duration\n",
    "            slice_dict[key]['time'] = duration\n",
    "    count += 1\n",
    "    slice_dict['duration'] = duration\n",
    "    slice_dict['first_pub_before_release'] = pub_before_release\n",
    "    slice_dict['last_pub_after_out'] = pub_after_release\n",
    "    slice_dict['release_time'] = release_time\n",
    "    slice_dict['out_time'] = out_time\n",
    "    moive_slice_dict[movie_id] = slice_dict\n",
    "    # break\n",
    "print(count)"
   ]
  },
  {
   "cell_type": "code",
   "execution_count": 13,
   "id": "de386d62",
   "metadata": {},
   "outputs": [],
   "source": [
    "from openpyxl import Workbook\n",
    "from openpyxl.utils import get_column_letter\n",
    "book = Workbook()\n",
    "sheet = book.active\n",
    "sheet['A1'] = 'imdb_id'\n",
    "# sheet['C1'] = 'title'\n",
    "sheet['B1'] = 'release_time'\n",
    "sheet['C1'] = 'duration'\n",
    "sheet['D1'] = 'out_time'\n",
    "sheet['E1'] = 'first_pub_before_release'\n",
    "sheet['F1'] = 'last_pub_after_out'\n",
    "base_list = ['release_time','duration','out_time','first_pub_before_release','last_pub_after_out']\n",
    "all_list = type_list + status_list + ['average']\n",
    "# print(all_list)\n",
    "\n",
    "k = 2\n",
    "\n",
    "for b in base_list:\n",
    "    e = get_column_letter(k)\n",
    "    sheet[f'{e}{1}'] = b\n",
    "    k += 1\n",
    "\n",
    "for t in all_list:\n",
    "    for s in slice_list:\n",
    "        e = get_column_letter(k)\n",
    "        sheet[f'{e}1'] = f'{t}_{s}'\n",
    "        k += 1\n",
    "        # print(f'{t}_{s}')\n",
    "# for i, e in enumerate(['K','L','M','N','O','P','Q','R','S']):\n",
    "#     sheet[f'{e}1'] = status_list[i]\n",
    "# sheet['K1'] = 'total'\n",
    "# sheet['L1'] = 'time'\n",
    "# sheet['M1'] = 'average'\n",
    "row = 2\n",
    "for id, movie in moive_slice_dict.items():\n",
    "    sheet[f'A{row}'] = id\n",
    "    k = 2\n",
    "    for b in base_list:\n",
    "        e = get_column_letter(k)\n",
    "        sheet[f'{e}{row}'] = movie[b]\n",
    "        k += 1\n",
    "\n",
    "    for t in all_list:\n",
    "        for s in slice_list:\n",
    "            e = get_column_letter(k)\n",
    "            sheet[f'{e}{row}'] = movie[s][t]\n",
    "            k += 1\n",
    "    row += 1 \n",
    "    # for i, t in enumerate(type_list):\n",
    "    #     sheet[f'C{row}'] = t\n",
    "    #     for j, e in enumerate(['D','E','F','G','H','I','J']):\n",
    "    #         sheet[f'{e}{row}'] = movie[slice_list[j]][t]\n",
    "    #     row += 1\n",
    "\n",
    "    # for i, s in enumerate(status_list):\n",
    "    #     sheet[f'C{row}'] = s\n",
    "    #     for j, e in enumerate(['D','E','F','G','H','I','J']):\n",
    "    #         sheet[f'{e}{row}'] = movie[slice_list[j]][s]\n",
    "    #     row += 1\n",
    "\n",
    "    # for i, s in enumerate(['total','time','average']):\n",
    "    #     sheet[f'C{row}'] = s\n",
    "    #     for j, e in enumerate(['D','E','F','G','H','I','J']):\n",
    "    #         sheet[f'{e}{row}'] = movie[slice_list[j]][s]\n",
    "    #     row += 1\n",
    "book.save('movie_t123.csv')"
   ]
  },
  {
   "cell_type": "code",
   "execution_count": null,
   "id": "a5b16a69",
   "metadata": {},
   "outputs": [],
   "source": []
  }
 ],
 "metadata": {
  "kernelspec": {
   "display_name": "Python 3 (ipykernel)",
   "language": "python",
   "name": "python3"
  },
  "language_info": {
   "codemirror_mode": {
    "name": "ipython",
    "version": 3
   },
   "file_extension": ".py",
   "mimetype": "text/x-python",
   "name": "python",
   "nbconvert_exporter": "python",
   "pygments_lexer": "ipython3",
   "version": "3.9.7"
  }
 },
 "nbformat": 4,
 "nbformat_minor": 5
}
