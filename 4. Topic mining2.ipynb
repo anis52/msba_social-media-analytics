{
 "cells": [
  {
   "cell_type": "markdown",
   "id": "046e1b77",
   "metadata": {},
   "source": [
    "# Topic Mining 2\n",
    "**Note**: \n",
    "This part of codes calculate the similarity between posts content and movie overviews.\n",
    "\n",
    "**Data Required**:\n",
    "imdb_scraped.csv, fbposts.csv"
   ]
  },
  {
   "cell_type": "code",
   "execution_count": 93,
   "id": "b6f95a76",
   "metadata": {},
   "outputs": [],
   "source": [
    "import pandas as pd\n",
    "import numpy as np\n",
    "import re\n",
    "import nltk, string\n",
    "from sklearn.feature_extraction.text import TfidfVectorizer\n",
    "from sklearn.metrics.pairwise import cosine_similarity"
   ]
  },
  {
   "cell_type": "code",
   "execution_count": 94,
   "id": "b2e74833",
   "metadata": {},
   "outputs": [],
   "source": [
    "data1 = pd.read_csv('imdb_scraped.csv')"
   ]
  },
  {
   "cell_type": "code",
   "execution_count": 95,
   "id": "eab894e7",
   "metadata": {},
   "outputs": [],
   "source": [
    "data2 = pd.read_csv('fbposts.csv')"
   ]
  },
  {
   "cell_type": "code",
   "execution_count": 96,
   "id": "6ab6a91f",
   "metadata": {},
   "outputs": [],
   "source": [
    "# join two tables using the key 'imdb_id'.\n",
    "data2 = data2.join(data1.set_index('imdb_id'), on='imdb_id')"
   ]
  },
  {
   "cell_type": "code",
   "execution_count": 97,
   "id": "8b0cfdb7",
   "metadata": {},
   "outputs": [],
   "source": [
    "# extract useful columns\n",
    "data2 = data2[['imdb_id','message_and_description','outline']]"
   ]
  },
  {
   "cell_type": "code",
   "execution_count": 98,
   "id": "108744b9",
   "metadata": {},
   "outputs": [
    {
     "data": {
      "text/html": [
       "<div>\n",
       "<style scoped>\n",
       "    .dataframe tbody tr th:only-of-type {\n",
       "        vertical-align: middle;\n",
       "    }\n",
       "\n",
       "    .dataframe tbody tr th {\n",
       "        vertical-align: top;\n",
       "    }\n",
       "\n",
       "    .dataframe thead th {\n",
       "        text-align: right;\n",
       "    }\n",
       "</style>\n",
       "<table border=\"1\" class=\"dataframe\">\n",
       "  <thead>\n",
       "    <tr style=\"text-align: right;\">\n",
       "      <th></th>\n",
       "      <th>imdb_id</th>\n",
       "      <th>message_and_description</th>\n",
       "      <th>outline</th>\n",
       "    </tr>\n",
       "  </thead>\n",
       "  <tbody>\n",
       "    <tr>\n",
       "      <th>0</th>\n",
       "      <td>tt0485985</td>\n",
       "      <td>Ne-Yo: I don't want to play singers - Irish I...</td>\n",
       "      <td>A crew of African American pilots in the Tuske...</td>\n",
       "    </tr>\n",
       "    <tr>\n",
       "      <th>1</th>\n",
       "      <td>tt0485985</td>\n",
       "      <td>Ne-Yo: I don't want to play singers - Belfast...</td>\n",
       "      <td>A crew of African American pilots in the Tuske...</td>\n",
       "    </tr>\n",
       "    <tr>\n",
       "      <th>2</th>\n",
       "      <td>tt0485985</td>\n",
       "      <td>Ne-Yo: I like roles that have little or nothi...</td>\n",
       "      <td>A crew of African American pilots in the Tuske...</td>\n",
       "    </tr>\n",
       "    <tr>\n",
       "      <th>3</th>\n",
       "      <td>tt0485985</td>\n",
       "      <td>Film sheds light on plight of Lakotas - San F...</td>\n",
       "      <td>A crew of African American pilots in the Tuske...</td>\n",
       "    </tr>\n",
       "    <tr>\n",
       "      <th>4</th>\n",
       "      <td>tt0485985</td>\n",
       "      <td>Disney buying Lucasfilm for $4.05B - WDTN WDT...</td>\n",
       "      <td>A crew of African American pilots in the Tuske...</td>\n",
       "    </tr>\n",
       "    <tr>\n",
       "      <th>...</th>\n",
       "      <td>...</td>\n",
       "      <td>...</td>\n",
       "      <td>...</td>\n",
       "    </tr>\n",
       "    <tr>\n",
       "      <th>48264</th>\n",
       "      <td>tt1656190</td>\n",
       "      <td>The Wall Street Journal says “Warrior is that ...</td>\n",
       "      <td>Mei, a young girl whose memory holds a pricele...</td>\n",
       "    </tr>\n",
       "    <tr>\n",
       "      <th>48265</th>\n",
       "      <td>tt1656190</td>\n",
       "      <td></td>\n",
       "      <td>Mei, a young girl whose memory holds a pricele...</td>\n",
       "    </tr>\n",
       "    <tr>\n",
       "      <th>48266</th>\n",
       "      <td>tt1656190</td>\n",
       "      <td></td>\n",
       "      <td>Mei, a young girl whose memory holds a pricele...</td>\n",
       "    </tr>\n",
       "    <tr>\n",
       "      <th>48267</th>\n",
       "      <td>tt1656190</td>\n",
       "      <td>Check it out! IGN.com exclusively debuts the f...</td>\n",
       "      <td>Mei, a young girl whose memory holds a pricele...</td>\n",
       "    </tr>\n",
       "    <tr>\n",
       "      <th>48268</th>\n",
       "      <td>tt1656190</td>\n",
       "      <td></td>\n",
       "      <td>Mei, a young girl whose memory holds a pricele...</td>\n",
       "    </tr>\n",
       "  </tbody>\n",
       "</table>\n",
       "<p>48269 rows × 3 columns</p>\n",
       "</div>"
      ],
      "text/plain": [
       "         imdb_id                            message_and_description  \\\n",
       "0      tt0485985   Ne-Yo: I don't want to play singers - Irish I...   \n",
       "1      tt0485985   Ne-Yo: I don't want to play singers - Belfast...   \n",
       "2      tt0485985   Ne-Yo: I like roles that have little or nothi...   \n",
       "3      tt0485985   Film sheds light on plight of Lakotas - San F...   \n",
       "4      tt0485985   Disney buying Lucasfilm for $4.05B - WDTN WDT...   \n",
       "...          ...                                                ...   \n",
       "48264  tt1656190  The Wall Street Journal says “Warrior is that ...   \n",
       "48265  tt1656190                                                      \n",
       "48266  tt1656190                                                      \n",
       "48267  tt1656190  Check it out! IGN.com exclusively debuts the f...   \n",
       "48268  tt1656190                                                      \n",
       "\n",
       "                                                 outline  \n",
       "0      A crew of African American pilots in the Tuske...  \n",
       "1      A crew of African American pilots in the Tuske...  \n",
       "2      A crew of African American pilots in the Tuske...  \n",
       "3      A crew of African American pilots in the Tuske...  \n",
       "4      A crew of African American pilots in the Tuske...  \n",
       "...                                                  ...  \n",
       "48264  Mei, a young girl whose memory holds a pricele...  \n",
       "48265  Mei, a young girl whose memory holds a pricele...  \n",
       "48266  Mei, a young girl whose memory holds a pricele...  \n",
       "48267  Mei, a young girl whose memory holds a pricele...  \n",
       "48268  Mei, a young girl whose memory holds a pricele...  \n",
       "\n",
       "[48269 rows x 3 columns]"
      ]
     },
     "execution_count": 98,
     "metadata": {},
     "output_type": "execute_result"
    }
   ],
   "source": [
    "data2"
   ]
  },
  {
   "cell_type": "code",
   "execution_count": 99,
   "id": "4cf68f90",
   "metadata": {},
   "outputs": [],
   "source": [
    "posts = data2.message_and_description.tolist()"
   ]
  },
  {
   "cell_type": "code",
   "execution_count": 100,
   "id": "a8693b97",
   "metadata": {},
   "outputs": [],
   "source": [
    "outline = data2.outline.tolist()"
   ]
  },
  {
   "cell_type": "code",
   "execution_count": 101,
   "id": "a4eae1b0",
   "metadata": {},
   "outputs": [],
   "source": [
    "remove_punctuation_map = dict((ord(char), None) for char in string.punctuation)\n",
    "\n",
    "'''remove punctuation, lowercase, stem'''\n",
    "def normalize(text):\n",
    "    return nltk.word_tokenize(text.lower().translate(remove_punctuation_map))\n",
    "\n",
    "vectorizer = TfidfVectorizer(tokenizer=normalize, stop_words='english')"
   ]
  },
  {
   "cell_type": "code",
   "execution_count": 102,
   "id": "2a53f2cc",
   "metadata": {},
   "outputs": [],
   "source": [
    "def cosine_sim(text1, text2):\n",
    "    tfidf = vectorizer.fit_transform([text1, text2])\n",
    "    return ((tfidf * tfidf.T).A)[0,1]"
   ]
  },
  {
   "cell_type": "code",
   "execution_count": 103,
   "id": "c3937610",
   "metadata": {},
   "outputs": [],
   "source": [
    "results = []"
   ]
  },
  {
   "cell_type": "code",
   "execution_count": 104,
   "id": "38931abb",
   "metadata": {},
   "outputs": [],
   "source": [
    "for i in range(0,48269):\n",
    "    result = cosine_sim(posts[i],outline[i])\n",
    "    results.append(result)"
   ]
  },
  {
   "cell_type": "code",
   "execution_count": 105,
   "id": "8c3b220d",
   "metadata": {},
   "outputs": [],
   "source": [
    "data2['score']=results"
   ]
  },
  {
   "cell_type": "code",
   "execution_count": 106,
   "id": "8851985a",
   "metadata": {
    "scrolled": true
   },
   "outputs": [
    {
     "data": {
      "text/html": [
       "<div>\n",
       "<style scoped>\n",
       "    .dataframe tbody tr th:only-of-type {\n",
       "        vertical-align: middle;\n",
       "    }\n",
       "\n",
       "    .dataframe tbody tr th {\n",
       "        vertical-align: top;\n",
       "    }\n",
       "\n",
       "    .dataframe thead th {\n",
       "        text-align: right;\n",
       "    }\n",
       "</style>\n",
       "<table border=\"1\" class=\"dataframe\">\n",
       "  <thead>\n",
       "    <tr style=\"text-align: right;\">\n",
       "      <th></th>\n",
       "      <th>imdb_id</th>\n",
       "      <th>message_and_description</th>\n",
       "      <th>outline</th>\n",
       "      <th>score</th>\n",
       "    </tr>\n",
       "  </thead>\n",
       "  <tbody>\n",
       "    <tr>\n",
       "      <th>0</th>\n",
       "      <td>tt0485985</td>\n",
       "      <td>Ne-Yo: I don't want to play singers - Irish I...</td>\n",
       "      <td>A crew of African American pilots in the Tuske...</td>\n",
       "      <td>0.046990</td>\n",
       "    </tr>\n",
       "    <tr>\n",
       "      <th>1</th>\n",
       "      <td>tt0485985</td>\n",
       "      <td>Ne-Yo: I don't want to play singers - Belfast...</td>\n",
       "      <td>A crew of African American pilots in the Tuske...</td>\n",
       "      <td>0.046990</td>\n",
       "    </tr>\n",
       "    <tr>\n",
       "      <th>2</th>\n",
       "      <td>tt0485985</td>\n",
       "      <td>Ne-Yo: I like roles that have little or nothi...</td>\n",
       "      <td>A crew of African American pilots in the Tuske...</td>\n",
       "      <td>0.084405</td>\n",
       "    </tr>\n",
       "    <tr>\n",
       "      <th>3</th>\n",
       "      <td>tt0485985</td>\n",
       "      <td>Film sheds light on plight of Lakotas - San F...</td>\n",
       "      <td>A crew of African American pilots in the Tuske...</td>\n",
       "      <td>0.000000</td>\n",
       "    </tr>\n",
       "    <tr>\n",
       "      <th>4</th>\n",
       "      <td>tt0485985</td>\n",
       "      <td>Disney buying Lucasfilm for $4.05B - WDTN WDT...</td>\n",
       "      <td>A crew of African American pilots in the Tuske...</td>\n",
       "      <td>0.079590</td>\n",
       "    </tr>\n",
       "    <tr>\n",
       "      <th>...</th>\n",
       "      <td>...</td>\n",
       "      <td>...</td>\n",
       "      <td>...</td>\n",
       "      <td>...</td>\n",
       "    </tr>\n",
       "    <tr>\n",
       "      <th>48264</th>\n",
       "      <td>tt1656190</td>\n",
       "      <td>The Wall Street Journal says “Warrior is that ...</td>\n",
       "      <td>Mei, a young girl whose memory holds a pricele...</td>\n",
       "      <td>0.000000</td>\n",
       "    </tr>\n",
       "    <tr>\n",
       "      <th>48265</th>\n",
       "      <td>tt1656190</td>\n",
       "      <td></td>\n",
       "      <td>Mei, a young girl whose memory holds a pricele...</td>\n",
       "      <td>0.000000</td>\n",
       "    </tr>\n",
       "    <tr>\n",
       "      <th>48266</th>\n",
       "      <td>tt1656190</td>\n",
       "      <td></td>\n",
       "      <td>Mei, a young girl whose memory holds a pricele...</td>\n",
       "      <td>0.000000</td>\n",
       "    </tr>\n",
       "    <tr>\n",
       "      <th>48267</th>\n",
       "      <td>tt1656190</td>\n",
       "      <td>Check it out! IGN.com exclusively debuts the f...</td>\n",
       "      <td>Mei, a young girl whose memory holds a pricele...</td>\n",
       "      <td>0.000000</td>\n",
       "    </tr>\n",
       "    <tr>\n",
       "      <th>48268</th>\n",
       "      <td>tt1656190</td>\n",
       "      <td></td>\n",
       "      <td>Mei, a young girl whose memory holds a pricele...</td>\n",
       "      <td>0.000000</td>\n",
       "    </tr>\n",
       "  </tbody>\n",
       "</table>\n",
       "<p>48269 rows × 4 columns</p>\n",
       "</div>"
      ],
      "text/plain": [
       "         imdb_id                            message_and_description  \\\n",
       "0      tt0485985   Ne-Yo: I don't want to play singers - Irish I...   \n",
       "1      tt0485985   Ne-Yo: I don't want to play singers - Belfast...   \n",
       "2      tt0485985   Ne-Yo: I like roles that have little or nothi...   \n",
       "3      tt0485985   Film sheds light on plight of Lakotas - San F...   \n",
       "4      tt0485985   Disney buying Lucasfilm for $4.05B - WDTN WDT...   \n",
       "...          ...                                                ...   \n",
       "48264  tt1656190  The Wall Street Journal says “Warrior is that ...   \n",
       "48265  tt1656190                                                      \n",
       "48266  tt1656190                                                      \n",
       "48267  tt1656190  Check it out! IGN.com exclusively debuts the f...   \n",
       "48268  tt1656190                                                      \n",
       "\n",
       "                                                 outline     score  \n",
       "0      A crew of African American pilots in the Tuske...  0.046990  \n",
       "1      A crew of African American pilots in the Tuske...  0.046990  \n",
       "2      A crew of African American pilots in the Tuske...  0.084405  \n",
       "3      A crew of African American pilots in the Tuske...  0.000000  \n",
       "4      A crew of African American pilots in the Tuske...  0.079590  \n",
       "...                                                  ...       ...  \n",
       "48264  Mei, a young girl whose memory holds a pricele...  0.000000  \n",
       "48265  Mei, a young girl whose memory holds a pricele...  0.000000  \n",
       "48266  Mei, a young girl whose memory holds a pricele...  0.000000  \n",
       "48267  Mei, a young girl whose memory holds a pricele...  0.000000  \n",
       "48268  Mei, a young girl whose memory holds a pricele...  0.000000  \n",
       "\n",
       "[48269 rows x 4 columns]"
      ]
     },
     "execution_count": 106,
     "metadata": {},
     "output_type": "execute_result"
    }
   ],
   "source": [
    "data2"
   ]
  },
  {
   "cell_type": "code",
   "execution_count": 107,
   "id": "cbb665fa",
   "metadata": {},
   "outputs": [],
   "source": [
    "data3 = data2.groupby('imdb_id',as_index=False)['score'].sum()"
   ]
  },
  {
   "cell_type": "code",
   "execution_count": 108,
   "id": "65895d2b",
   "metadata": {},
   "outputs": [],
   "source": [
    "data3.to_csv('score.csv')"
   ]
  }
 ],
 "metadata": {
  "kernelspec": {
   "display_name": "Python 3 (ipykernel)",
   "language": "python",
   "name": "python3"
  },
  "language_info": {
   "codemirror_mode": {
    "name": "ipython",
    "version": 3
   },
   "file_extension": ".py",
   "mimetype": "text/x-python",
   "name": "python",
   "nbconvert_exporter": "python",
   "pygments_lexer": "ipython3",
   "version": "3.9.7"
  }
 },
 "nbformat": 4,
 "nbformat_minor": 5
}
